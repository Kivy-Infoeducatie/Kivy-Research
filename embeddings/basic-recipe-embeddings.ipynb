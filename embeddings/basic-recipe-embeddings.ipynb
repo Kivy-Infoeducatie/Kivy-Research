{
 "cells": [
  {
   "metadata": {
    "ExecuteTime": {
     "end_time": "2025-05-07T14:13:49.369464Z",
     "start_time": "2025-05-07T14:13:49.366366Z"
    }
   },
   "cell_type": "code",
   "source": [
    "import pandas as pd\n",
    "from json import loads"
   ],
   "id": "330cff8c781ec754",
   "outputs": [],
   "execution_count": 98
  },
  {
   "metadata": {
    "ExecuteTime": {
     "end_time": "2025-05-07T14:13:57.458787Z",
     "start_time": "2025-05-07T14:13:49.373017Z"
    }
   },
   "cell_type": "code",
   "source": [
    "df = pd.read_csv('../parsers/output/parsed_recipes.csv')\n",
    "\n",
    "df['tags'] = df['tags'].apply(loads)\n",
    "df['ingredients'] = df['ingredients'].apply(loads)"
   ],
   "id": "cb9cd10a8f218638",
   "outputs": [],
   "execution_count": 99
  },
  {
   "metadata": {
    "ExecuteTime": {
     "end_time": "2025-05-07T14:13:57.735042Z",
     "start_time": "2025-05-07T14:13:57.732715Z"
    }
   },
   "cell_type": "code",
   "source": "df.columns",
   "id": "673e85af9b1452aa",
   "outputs": [
    {
     "data": {
      "text/plain": [
       "Index(['name', 'author_name', 'cooking_time', 'preparation_time', 'created_at',\n",
       "       'description', 'images', 'RecipeCategory', 'tags', 'calories',\n",
       "       'total_fat', 'saturated_fat', 'cholesterol', 'sodium', 'carbohydrates',\n",
       "       'fiber', 'sugar', 'protein', 'servings', 'steps', 'ingredients',\n",
       "       'serving_size'],\n",
       "      dtype='object')"
      ]
     },
     "execution_count": 100,
     "metadata": {},
     "output_type": "execute_result"
    }
   ],
   "execution_count": 100
  },
  {
   "metadata": {
    "ExecuteTime": {
     "end_time": "2025-05-07T14:13:58.746380Z",
     "start_time": "2025-05-07T14:13:57.769235Z"
    }
   },
   "cell_type": "code",
   "outputs": [
    {
     "data": {
      "text/plain": [
       "4629646"
      ]
     },
     "execution_count": 101,
     "metadata": {},
     "output_type": "execute_result"
    }
   ],
   "execution_count": 101,
   "source": "len(df['ingredients'].explode().map(lambda el: 'quantity' in el))",
   "id": "13551b9ef5668acb"
  },
  {
   "metadata": {
    "ExecuteTime": {
     "end_time": "2025-05-07T14:13:59.975156Z",
     "start_time": "2025-05-07T14:13:58.751648Z"
    }
   },
   "cell_type": "code",
   "source": "df['ingredients'].explode().map(lambda el: el['name']).value_counts().sort_values()",
   "id": "f68dd64d3eb2ac5",
   "outputs": [
    {
     "data": {
      "text/plain": [
       "ingredients\n",
       "ground sweet Italian sausage (remove from casing if using links)         1\n",
       "quick-cooking oatmeal (3 soup spoons)                                    1\n",
       "other berries or 2 cups combination fruit                                1\n",
       "tamari or 6 tablespoons soy sauce                                        1\n",
       "bananas (a little under ripe holds up best)                              1\n",
       "                                                                     ...  \n",
       "water                                                                68866\n",
       "eggs                                                                 73932\n",
       "butter                                                               97135\n",
       "sugar                                                               102520\n",
       "salt                                                                181736\n",
       "Name: count, Length: 424781, dtype: int64"
      ]
     },
     "execution_count": 102,
     "metadata": {},
     "output_type": "execute_result"
    }
   ],
   "execution_count": 102
  },
  {
   "metadata": {
    "ExecuteTime": {
     "end_time": "2025-05-07T14:14:01.051267Z",
     "start_time": "2025-05-07T14:14:00.059797Z"
    }
   },
   "cell_type": "code",
   "source": [
    "x = df['ingredients'].explode().map(lambda el: el['name']).value_counts().sort_values()\n",
    "\n",
    "x = x[x > 9]"
   ],
   "id": "846c1b138b3cd705",
   "outputs": [],
   "execution_count": 103
  },
  {
   "metadata": {
    "ExecuteTime": {
     "end_time": "2025-05-07T14:14:01.072721Z",
     "start_time": "2025-05-07T14:14:01.070902Z"
    }
   },
   "cell_type": "code",
   "source": "x = pd.Series(x.index)",
   "id": "7b79490f8a86f18",
   "outputs": [],
   "execution_count": 104
  },
  {
   "metadata": {
    "ExecuteTime": {
     "end_time": "2025-05-07T14:14:01.119886Z",
     "start_time": "2025-05-07T14:14:01.117153Z"
    }
   },
   "cell_type": "code",
   "source": "x",
   "id": "33da40ee64d80d72",
   "outputs": [
    {
     "data": {
      "text/plain": [
       "0                          vegetarian sausage\n",
       "1                       oil or 1/4 cup butter\n",
       "2                   spring mixed salad greens\n",
       "3                   tablespoons minced garlic\n",
       "4        chicken stock or 1 cup chicken broth\n",
       "                         ...                 \n",
       "13673                                   water\n",
       "13674                                    eggs\n",
       "13675                                  butter\n",
       "13676                                   sugar\n",
       "13677                                    salt\n",
       "Name: ingredients, Length: 13678, dtype: object"
      ]
     },
     "execution_count": 105,
     "metadata": {},
     "output_type": "execute_result"
    }
   ],
   "execution_count": 105
  },
  {
   "metadata": {
    "ExecuteTime": {
     "end_time": "2025-05-07T14:20:34.228809Z",
     "start_time": "2025-05-07T14:20:31.912617Z"
    }
   },
   "cell_type": "code",
   "source": [
    "from sentence_transformers import SentenceTransformer\n",
    "\n",
    "model = SentenceTransformer('all-MiniLM-L6-v2')"
   ],
   "id": "84888ed428ba2817",
   "outputs": [],
   "execution_count": 111
  },
  {
   "metadata": {
    "ExecuteTime": {
     "end_time": "2025-05-07T14:20:37.589787Z",
     "start_time": "2025-05-07T14:20:34.832032Z"
    }
   },
   "cell_type": "code",
   "source": [
    "import torch\n",
    "from torch.nn.functional import cosine_similarity\n",
    "\n",
    "string_embeddings = model.encode(x, convert_to_tensor=True)\n",
    "\n",
    "def find_most_similar_string(new_string: str):\n",
    "    new_string_embedding = model.encode(new_string, convert_to_tensor=True)\n",
    "\n",
    "    similarities = cosine_similarity(new_string_embedding.unsqueeze(0), string_embeddings)\n",
    "\n",
    "    most_similar_index = torch.argmax(similarities).item()\n",
    "    most_similar_string = x[most_similar_index]\n",
    "    similarity_score = similarities[most_similar_index].item()\n",
    "\n",
    "    return most_similar_string, similarity_score\n",
    "\n",
    "new_string = 'finely chopped parsley (or to taste'\n",
    "\n",
    "most_similar, score = find_most_similar_string(new_string)\n",
    "print(f\"The most similar string to '{new_string}' is '{most_similar}' with a similarity score of {score:.4f}.\")"
   ],
   "id": "5b4283bcfd0d218e",
   "outputs": [
    {
     "name": "stdout",
     "output_type": "stream",
     "text": [
      "0                          vegetarian sausage\n",
      "1                       oil or 1/4 cup butter\n",
      "2                   spring mixed salad greens\n",
      "3                   tablespoons minced garlic\n",
      "4        chicken stock or 1 cup chicken broth\n",
      "                         ...                 \n",
      "13673                                   water\n",
      "13674                                    eggs\n",
      "13675                                  butter\n",
      "13676                                   sugar\n",
      "13677                                    salt\n",
      "Name: ingredients, Length: 13678, dtype: object\n",
      "12618\n",
      "The most similar string to 'finely chopped parsley (or to taste' is 'finely chopped parsley' with a similarity score of 0.9457.\n"
     ]
    }
   ],
   "execution_count": 112
  },
  {
   "metadata": {
    "ExecuteTime": {
     "end_time": "2025-05-07T14:21:23.311038Z",
     "start_time": "2025-05-07T14:21:22.988422Z"
    }
   },
   "cell_type": "code",
   "source": [
    "new_string = 'heavy cream (or less)'\n",
    "\n",
    "most_similar, score = find_most_similar_string(new_string)\n",
    "print(f\"The most similar string to '{new_string}' is '{most_similar}' with a similarity score of {score:.4f}.\")"
   ],
   "id": "1fc543434334b85e",
   "outputs": [
    {
     "name": "stdout",
     "output_type": "stream",
     "text": [
      "0                          vegetarian sausage\n",
      "1                       oil or 1/4 cup butter\n",
      "2                   spring mixed salad greens\n",
      "3                   tablespoons minced garlic\n",
      "4        chicken stock or 1 cup chicken broth\n",
      "                         ...                 \n",
      "13673                                   water\n",
      "13674                                    eggs\n",
      "13675                                  butter\n",
      "13676                                   sugar\n",
      "13677                                    salt\n",
      "Name: ingredients, Length: 13678, dtype: object\n",
      "13628\n",
      "The most similar string to 'heavy cream (or less)' is 'heavy cream' with a similarity score of 0.9406.\n"
     ]
    }
   ],
   "execution_count": 114
  }
 ],
 "metadata": {
  "kernelspec": {
   "display_name": "Python 3",
   "language": "python",
   "name": "python3"
  },
  "language_info": {
   "codemirror_mode": {
    "name": "ipython",
    "version": 2
   },
   "file_extension": ".py",
   "mimetype": "text/x-python",
   "name": "python",
   "nbconvert_exporter": "python",
   "pygments_lexer": "ipython2",
   "version": "2.7.6"
  }
 },
 "nbformat": 4,
 "nbformat_minor": 5
}
